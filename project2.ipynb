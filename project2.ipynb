{
 "cells": [
  {
   "cell_type": "markdown",
   "metadata": {},
   "source": [
    "# Predicting Flight Delays For Domestic Airlines"
   ]
  },
  {
   "cell_type": "markdown",
   "metadata": {},
   "source": [
    "### Authors: Ethan Bleier, Elijah Kramer, Roberto Palacios"
   ]
  },
  {
   "cell_type": "markdown",
   "metadata": {},
   "source": [
    "The U.S. Department of Transportation's (DOT) Bureau of Transportation Statistics (BTS) maintains performance records of domestic flights. These statistics include several interesting variables: dates, taxi times, delays, origins, destinations, departure, and arrival times. \n",
    "\n",
    "Using data analysis and various machine learning algorithms, this notebook plans to predict whether or not a flight will experience a delay. Specifically, we are interested in which predictors will play the biggest role in causing flight delays.\n",
    "\n",
    "Our main dataset is taken from [Kaggle](https://www.kaggle.com/datasets/giovamata/airlinedelaycauses/data) and represents data from 2008. However, we expect to find that many of these same patterns found in this dataset to persist today.\n",
    "\n",
    "In addition to this, we have [airport data](\"https://raw.githubusercontent.com/jpatokal/openflights/master/data/airports.dat\") and [airline data](\"https://raw.githubusercontent.com/jpatokal/openflights/master/data/airlines.dat\") taken from [OpenFlights.org](https://openflights.org/) to help fill in gaps in data and previous knowledge."
   ]
  },
  {
   "cell_type": "markdown",
   "metadata": {},
   "source": [
    "# TODO:\n",
    "\n",
    "Someone Look at TaxiIn and TaxiOut\n",
    "Feel free to add more"
   ]
  },
  {
   "cell_type": "code",
   "execution_count": null,
   "metadata": {},
   "outputs": [],
   "source": [
    "# Imports\n",
    "import pandas as pd\n",
    "import numpy as np\n",
    "import matplotlib.pyplot as plt\n",
    "import seaborn as sns\n",
    "import kagglehub\n",
    "\n",
    "# sklearn\n",
    "from sklearn.preprocessing import StandardScaler\n",
    "from sklearn.cluster import KMeans\n",
    "from sklearn.decomposition import PCA\n",
    "from sklearn.model_selection import train_test_split\n",
    "\n",
    "# scipy\n",
    "from scipy.stats import zscore"
   ]
  },
  {
   "cell_type": "markdown",
   "metadata": {},
   "source": [
    "### Reading In Data"
   ]
  },
  {
   "cell_type": "code",
   "execution_count": null,
   "metadata": {},
   "outputs": [],
   "source": [
    "path = kagglehub.dataset_download(\"giovamata/airlinedelaycauses\")\n",
    "df = pd.read_csv(path + '/DelayedFlights.csv')\n",
    "\n",
    "port_df = pd.read_csv(\"https://raw.githubusercontent.com/jpatokal/openflights/master/data/airports.dat\")\n",
    "plane_df = pd.read_csv(\"https://raw.githubusercontent.com/jpatokal/openflights/master/data/airlines.dat\")"
   ]
  },
  {
   "cell_type": "markdown",
   "metadata": {},
   "source": [
    "### Quick plotting settings"
   ]
  },
  {
   "cell_type": "code",
   "execution_count": null,
   "metadata": {},
   "outputs": [],
   "source": [
    "sns.set_theme(context='notebook', style='whitegrid')\n",
    "plt.rcParams['figure.figsize'] = 6, 4"
   ]
  },
  {
   "cell_type": "markdown",
   "metadata": {},
   "source": [
    "### Data Preprocessing"
   ]
  },
  {
   "cell_type": "markdown",
   "metadata": {},
   "source": [
    "The airplane and airport data frames need considerable preprocessing before, they can be of us to use. Likewise, our main data frame could use some cleaning before we perform any analysis."
   ]
  },
  {
   "cell_type": "code",
   "execution_count": null,
   "metadata": {},
   "outputs": [],
   "source": [
    "df.drop([\"Year\", \"Unnamed: 0\", \"FlightNum\",\"TailNum\", \"Cancelled\"], axis = 1, inplace = True)\n",
    "df = df.dropna(subset=['DepDelay', 'ArrDelay'])\n",
    "df[\"DepDelayLog\"] = np.log10(df[\"DepDelay\"])\n",
    "df[\"ArrDelayLog\"] = np.log10(df[\"ArrDelay\"])\n",
    "\n",
    "# Both .dat files need to be formatted properly and new column names are needed\n",
    "top_row = port_df.columns\n",
    "port_df.columns = [\"AirportId\", \"Name\", \"City\", \"Country\", \"IATA\", \"ICAO\", \"Latitude\", \"Longitude\", \"Altitude\", \"Timezone\", \"DST\", \"TZ\", \"Type\", \"Source\"]\n",
    "port_df.loc[-1] = top_row\n",
    "port_df.index = port_df.index + 1\n",
    "port_df = port_df.sort_index()\n",
    "\n",
    "top_row = plane_df.columns\n",
    "plane_df.columns = [\"AirlineId\", \"ID\", \"Name\", \"IATA\", \"ICAO\", \"Callsign\", \"Country\", \"Active\"]\n",
    "plane_df.loc[-1] = top_row\n",
    "plane_df.index = plane_df.index + 1\n",
    "plane_df = plane_df.sort_index()\n",
    "\n",
    "# plane_df and port_df have columns which we do not need or are of no use so we drop them\n",
    "port_df = port_df[port_df[\"Country\"] == \"United States\"]\n",
    "port_df = port_df[port_df[\"IATA\"] != \"\\\\N\"]\n",
    "port_df.drop([\"Source\", \"ICAO\"], axis = 1, inplace = True)\n",
    "\n",
    "plane_df = plane_df[plane_df[\"Country\"] == \"United States\"]\n",
    "plane_df = plane_df.dropna(subset = [\"IATA\"])\n",
    "plane_df.drop([\"Name\", \"ICAO\"], axis = 1, inplace = True)"
   ]
  },
  {
   "cell_type": "code",
   "execution_count": null,
   "metadata": {},
   "outputs": [],
   "source": [
    "df.info()"
   ]
  },
  {
   "cell_type": "code",
   "execution_count": null,
   "metadata": {},
   "outputs": [],
   "source": [
    "contin_vars = [\"DepDelay\",\"ArrDelay\",\"TaxiIn\", \"TaxiOut\", \"Distance\"]\n",
    "sns.heatmap(df[contin_vars].corr(), cmap = \"PRGn\", vmin = -1, vmax = 1);"
   ]
  },
  {
   "cell_type": "code",
   "execution_count": null,
   "metadata": {},
   "outputs": [],
   "source": [
    "plane_df.info()"
   ]
  },
  {
   "cell_type": "code",
   "execution_count": null,
   "metadata": {},
   "outputs": [],
   "source": [
    "port_df.info()"
   ]
  },
  {
   "cell_type": "markdown",
   "metadata": {},
   "source": [
    "### Initial Data Exploration"
   ]
  },
  {
   "cell_type": "markdown",
   "metadata": {},
   "source": [
    "While several factors may influence delays, we'd like to examine the constants in this situation rather than rely on chance incidents of weather or unexpected events. As such we'll first be looking at delays in relation to carriers."
   ]
  },
  {
   "cell_type": "code",
   "execution_count": null,
   "metadata": {},
   "outputs": [],
   "source": [
    "fig, (ax1, ax2) = plt.subplots(1,2, figsize = (14,6))\n",
    "\n",
    "median_carrier_delay = df.groupby(\"UniqueCarrier\")[[\"ArrDelay\", \"DepDelay\"]].median().sort_values(by =\"ArrDelay\", ascending = False)\n",
    "mean_carrier_delay = df.groupby(\"UniqueCarrier\")[[\"ArrDelay\", \"DepDelay\"]].mean().sort_values(by =\"ArrDelay\", ascending = False)\n",
    "\n",
    "median_carrier_delay.plot.barh(ax = ax1, title = \"Median Delay By Carrier\", xlabel = \"Median Delay in Minutes\");\n",
    "mean_carrier_delay.plot.barh(ax = ax2, title = \"Mean Delay By Carrier\", xlabel = \"Mean Delay in Minutes\");\n",
    "\n",
    "ax1.set_xlim(0,60)\n",
    "ax2.set_xlim(0,60)\n",
    "\n",
    "plt.tight_layout()\n",
    "plt.show()"
   ]
  },
  {
   "cell_type": "markdown",
   "metadata": {},
   "source": [
    "### Delays At Airports"
   ]
  },
  {
   "cell_type": "markdown",
   "metadata": {},
   "source": [
    "This initial analysis suggests that delays are closely tied to carriers. Our dataset also contains a column that relates specifically to carrier delays, which could be used to elucidate some of these figures. However, over a third of these values are null, making further evaluation much more difficult. Instead, we'll explore the relationship between airports and delays."
   ]
  },
  {
   "cell_type": "code",
   "execution_count": null,
   "metadata": {},
   "outputs": [],
   "source": [
    "fig, (ax1, ax2) = plt.subplots(1,2, figsize = (14,6))\n",
    "\n",
    "dest_by_median_delay = df.groupby(\"Dest\")[[\"ArrDelay\",\"DepDelay\"]].median().sort_values(by = \"DepDelay\", ascending = False).head(15)\n",
    "dest_by_mean_delay = df.groupby(\"Dest\")[[\"ArrDelay\",\"DepDelay\"]].mean().sort_values(by = \"DepDelay\", ascending = False).head(15)\n",
    "\n",
    "dest_by_median_delay.plot.barh(ax = ax1, title = \"Top 10 Airports by Median Delay\", xlabel = \"Median Delay in Minutes\");\n",
    "dest_by_mean_delay.plot.barh(ax = ax2, title = \"Top 10 Airports by Mean Delay\", xlabel = \"Mean Delay in Minutes\");\n",
    "\n",
    "ax1.set_xlim(0, 80)\n",
    "ax2.set_xlim(0, 80)\n",
    "\n",
    "plt.tight_layout()\n",
    "plt.show()"
   ]
  },
  {
   "cell_type": "raw",
   "metadata": {},
   "source": [
    "Here we can see that airports are quite consistent with the amount of delay each flight experiences at their terminals. However, we can see that smaller regional airports seem to be overrepresented in this case"
   ]
  },
  {
   "cell_type": "code",
   "execution_count": null,
   "metadata": {},
   "outputs": [],
   "source": [
    "fig, (ax1, ax2) = plt.subplots(1,2, figsize = (14,6))\n",
    "\n",
    "top_ten_airports = df[df[\"Dest\"].isin((df[\"Dest\"].value_counts().head(10)).index)]\n",
    "top_ten_airports.groupby(\"Dest\")[[\"ArrDelay\",\"DepDelay\"]].median().sort_values(by = \"DepDelay\", ascending  = False).plot.barh(ax = ax1);\n",
    "\n",
    "bottom_ten_airports = df[df[\"Dest\"].isin((df[\"Dest\"].value_counts().sort_values().head(10)).index)]\n",
    "bottom_ten_airports.groupby(\"Dest\")[[\"ArrDelay\",\"DepDelay\"]].median().sort_values(by = \"DepDelay\", ascending  = False).plot.barh(ax = ax2);\n",
    "\n",
    "ax1.set_title(\"Delays At Top 10 Most Visited Airports\")\n",
    "ax1.set_xlabel(\"Median Delay in Minutes\")\n",
    "\n",
    "ax2.set_title(\"Delays At Top 10 Least Visited Airports\")\n",
    "ax2.set_xlabel(\"Median Delay in Minutes\")\n",
    "\n",
    "ax1.set_xlim(0, 60)\n",
    "ax2.set_xlim(0, 60)\n",
    "\n",
    "plt.show()"
   ]
  },
  {
   "cell_type": "markdown",
   "metadata": {},
   "source": [
    "One might expect that busier airports are more likely to suffer flight delays but the data suggests otherwise. Smaller, regional airports appear to suffer equal or higher rates of delays when compared to high-volume airports. The main difference here lies in the consistency of the airports as the 10 most visited airports have similar rates of delay or are at least equal in their rate of arrival delay and departure delay. Low-traffic airports on the other hand vary from one another and even in their arrival and departure delays. \n",
    "\n",
    "From this information, we surmise that traffic is not a significant factor causing flight delays. As such we should look at other key variables such as the distance of each flight and the time of year the flight takes place."
   ]
  },
  {
   "cell_type": "code",
   "execution_count": null,
   "metadata": {},
   "outputs": [],
   "source": [
    "scatter_sample = df[df[\"CRSArrTime\"] < df[\"ArrTime\"]].sample(n = 1000, random_state = 42)\n",
    "\n",
    "fig, (ax1, ax2) = plt.subplots(1,2, figsize = (14,6))\n",
    "\n",
    "ax1.scatter(scatter_sample[\"ArrDelayLog\"],scatter_sample[\"Distance\"], alpha = 0.5)\n",
    "\n",
    "\n",
    "ax1.set_ylim(0, 3000)\n",
    "ax1.set_title(\"Scatterplot of Arrival Delay By Distance\")\n",
    "ax1.set_xlabel(\"Delay\")\n",
    "ax1.set_ylabel(\"Distance\")\n",
    "\n",
    "ax2.scatter(scatter_sample[\"DepDelayLog\"],scatter_sample[\"Distance\"], alpha = 0.5)\n",
    "\n",
    "ax2.set_ylim(0, 3000)\n",
    "ax2.set_title(\"Scatterplot of Departure Delay By Distance\")\n",
    "ax2.set_xlabel(\"Delay\")\n",
    "ax2.set_ylabel(\"Distance\")\n",
    "\n",
    "plt.show()"
   ]
  },
  {
   "cell_type": "code",
   "execution_count": null,
   "metadata": {},
   "outputs": [],
   "source": [
    "scatter_sample = df[df[\"CRSArrTime\"] < df[\"ArrTime\"]].sample(n = 1000, random_state = 42)\n",
    "\n",
    "fig, (ax1, ax2) = plt.subplots(1,2, figsize = (14,6))\n",
    "ax1.scatter(scatter_sample[\"ArrDelay\"],scatter_sample[\"Distance\"], alpha = 0.5)\n",
    "\n",
    "ax1.set_xlim(-5, 300)\n",
    "ax1.set_ylim(0, 3000)\n",
    "ax1.set_title(\"Scatterplot of Arrival Delay By Distance\")\n",
    "ax1.set_xlabel(\"Delay\")\n",
    "ax1.set_ylabel(\"Distance\")\n",
    "\n",
    "ax2.scatter(scatter_sample[\"ArrDelay\"],scatter_sample[\"Distance\"], alpha = 0.5)\n",
    "ax2.set_xlim(0, 50)\n",
    "ax2.set_ylim(0, 3000)\n",
    "ax2.set_title(\"Scatterplot of Arrival Delay By Distance(Zoomed)\")\n",
    "ax2.set_xlabel(\"Delay\")\n",
    "ax2.set_ylabel(\"Distance\")\n",
    "\n",
    "plt.show()"
   ]
  },
  {
   "cell_type": "markdown",
   "metadata": {},
   "source": [
    "Unlike departure delays, some flights show negative values for arrival delays, meaning they arrived at their destinations earlier than expected. As such, we started by isolating flights that failed to arrive on time and then took a sample of those instances. Then, we plotted the arrival delay of these flights against their distance traveled.\n",
    "\n",
    "The results show that delay times are evenly distributed regardless of the distance traveled, with outliers being the natural result of unforeseen incidents occurring occasionally.\n",
    "\n",
    "Next, we'll assess how much of an impact the time of year has on flight delays"
   ]
  },
  {
   "cell_type": "code",
   "execution_count": null,
   "metadata": {},
   "outputs": [],
   "source": [
    "months = [\"JAN\", \"FEB\", \"MAR\", \"APR\", \"MAY\", \"JUN\", \"JUL\", \"AUG\", \"SEP\", \"OCT\", \"NOV\", \"DEC\"]\n",
    "\n",
    "med_month_delay = df.groupby(\"Month\")[\"ArrDelay\"].median()\n",
    "mean_month_delay = df.groupby(\"Month\")[\"ArrDelay\"].mean()\n",
    "\n",
    "# applies months labels after grouping\n",
    "med_month_delay.index = med_month_delay.index.map(lambda x:months[x-1])\n",
    "mean_month_delay.index = mean_month_delay.index.map(lambda x:months[x-1])\n",
    "\n",
    "fig, (ax1, ax2) = plt.subplots(1,2, figsize = (14,6))\n",
    "\n",
    "med_month_delay.sort_values().plot.barh(ax = ax1, title = \"Median Arrival Delay By Month\", xlabel = \"Arrival Delay in Minutes\")\n",
    "mean_month_delay.sort_values().plot.barh(ax = ax2, title = \"Mean Arrival Delay By Month\", xlabel = \"Arrival Delay in Minutes\")\n",
    "\n",
    "ax1.set_xlim(0, 50)\n",
    "ax2.set_xlim(0, 50)\n",
    "# applies month labels after grouping. Can't be used with sorting or requires change of label order\n",
    "# plt.yticks(ticks=range(12), labels = months)\n",
    "plt.show()"
   ]
  },
  {
   "cell_type": "markdown",
   "metadata": {},
   "source": [
    "When looking at the arrival delay by month, we notice a trend in the winter and summer months. These months often see much heavier flight traffic than normal due to people taking vacations or visiting family. As a result, arrival delays tend to increase in those months and stay relatively low for the rest of the year."
   ]
  },
  {
   "cell_type": "code",
   "execution_count": null,
   "metadata": {},
   "outputs": [],
   "source": [
    "# this plot kinda cheeks but it shows all data points\n",
    "df.boxplot(column = \"ArrDelayLog\" , by = \"Month\")\n",
    "plt.suptitle(\"\")\n",
    "plt.title(\"Boxplot of Arrival Delays by Month\")\n",
    "plt.show()"
   ]
  },
  {
   "cell_type": "code",
   "execution_count": null,
   "metadata": {},
   "outputs": [],
   "source": [
    "# this one's pretty...pretty useless\n",
    "sns.kdeplot(x = \"ArrDelayLog\", hue = \"Month\", data = df, common_norm = False)\n",
    "plt.legend(labels = [\"JAN\", \"FEB\", \"MAR\", \"APR\", \"MAY\", \"JUN\", \"JUL\", \"AUG\", \"SEP\", \"OCT\", \"NOV\", \"DEC\"])\n",
    "plt.show()"
   ]
  },
  {
   "cell_type": "code",
   "execution_count": null,
   "metadata": {},
   "outputs": [],
   "source": [
    "# lets predict if a flight will arrive late using carrier, destination, and date info\n",
    "(df[\"ArrDelay\"] <= 0).sum()"
   ]
  },
  {
   "cell_type": "code",
   "execution_count": null,
   "metadata": {},
   "outputs": [],
   "source": [
    "df.shape"
   ]
  },
  {
   "cell_type": "code",
   "execution_count": null,
   "metadata": {},
   "outputs": [],
   "source": [
    "# Checking for outliers\n",
    "plt.boxplot([df['DepDelay'], df['ArrDelay']])\n",
    "plt.xticks([1, 2], ['DepDelay', 'ArrDelay'])\n",
    "plt.show()\n",
    "\n",
    "z_scores = zscore(df[['DepDelay', 'ArrDelay']])\n",
    "outliers = (abs(z_scores) > 3).any(axis=1)\n",
    "print(\"Number of outliers:\", outliers.sum())"
   ]
  },
  {
   "cell_type": "markdown",
   "metadata": {},
   "source": [
    "This plot shows us that there are too many outliers for the mean of the data to provide us with anything useful."
   ]
  },
  {
   "cell_type": "code",
   "execution_count": null,
   "metadata": {},
   "outputs": [],
   "source": [
    "df_num = df[['ArrDelay', 'DepDelay']]\n",
    "numeric_vars = df_num.columns.values\n",
    "\n",
    "zscore1 = lambda s: zscore(s, nan_policy='omit')\n",
    "\n",
    "df_scaled = df_num.apply(zscore1)"
   ]
  },
  {
   "cell_type": "code",
   "execution_count": null,
   "metadata": {},
   "outputs": [],
   "source": [
    "df_scaled.apply(['min', 'max']).round(2).transpose()"
   ]
  },
  {
   "cell_type": "markdown",
   "metadata": {},
   "source": [
    "The calculation of the min and max in this instance shows us that some delay values are negative and may indicate either flights that arrived early, or some sort of error."
   ]
  },
  {
   "cell_type": "code",
   "execution_count": null,
   "metadata": {},
   "outputs": [],
   "source": [
    "sns.pairplot(df_num);"
   ]
  },
  {
   "cell_type": "code",
   "execution_count": null,
   "metadata": {},
   "outputs": [],
   "source": [
    "q01, q99 = df[['DepDelay', 'ArrDelay']].quantile([0.01, 0.99]).values\n",
    "\n",
    "df['DepDelay'] = df['DepDelay'].clip(q01[0], q99[0])\n",
    "df['ArrDelay'] = df['ArrDelay'].clip(q01[1], q99[1])\n",
    "\n",
    "X = StandardScaler().fit_transform(df[['DepDelay', 'ArrDelay']])\n",
    "kmeans = KMeans(n_clusters=3, random_state=0)\n",
    "clusters = kmeans.fit_predict(X)"
   ]
  },
  {
   "cell_type": "code",
   "execution_count": null,
   "metadata": {},
   "outputs": [],
   "source": [
    "fig, (ax1, ax2) = plt.subplots(1, 2, figsize=(12, 5))\n",
    "\n",
    "ax1.scatter(df['DepDelay'], df['ArrDelay'], alpha=0.5)\n",
    "ax1.set_title('Raw Data')\n",
    "ax1.set_xlabel('Departure Delay')\n",
    "ax1.set_ylabel('Arrival Delay')\n",
    "\n",
    "ax2.scatter(df['DepDelay'], df['ArrDelay'], alpha=0.5, c=clusters)\n",
    "ax2.set_title('Clipped Data with Clusters')\n",
    "ax2.set_xlabel('Departure Delay')\n",
    "ax2.set_ylabel('Arrival Delay')\n",
    "\n",
    "plt.tight_layout()\n",
    "plt.show()"
   ]
  },
  {
   "cell_type": "code",
   "execution_count": null,
   "metadata": {},
   "outputs": [],
   "source": [
    "z_scores = zscore(df[['DepDelay', 'ArrDelay']])\n",
    "outliers_removed = df[abs(z_scores).max(axis=1) <= 3]"
   ]
  },
  {
   "cell_type": "markdown",
   "metadata": {
    "jp-MarkdownHeadingCollapsed": true
   },
   "source": [
    "### Machine Learning"
   ]
  },
  {
   "cell_type": "code",
   "execution_count": null,
   "metadata": {},
   "outputs": [],
   "source": [
    "X = df[['DepDelay', 'ArrDelay']]"
   ]
  },
  {
   "cell_type": "code",
   "execution_count": null,
   "metadata": {},
   "outputs": [],
   "source": [
    "scaler = StandardScaler()\n",
    "scaler.fit(X)\n",
    "X_scaled = scaler.transform(X)\n",
    "\n",
    "kmeans = KMeans(n_clusters=3,random_state=0)\n",
    "cluster_nums = kmeans.fit_predict(X)"
   ]
  },
  {
   "cell_type": "markdown",
   "metadata": {},
   "source": [
    "Sanity check: Are the clusters too skewed?"
   ]
  },
  {
   "cell_type": "code",
   "execution_count": null,
   "metadata": {},
   "outputs": [],
   "source": [
    "cluster_nums[:100]\n",
    "\n",
    "print(\"Cluster 1:\", np.bincount(cluster_nums)[0])\n",
    "print(\"Cluster 2:\", np.bincount(cluster_nums)[1]) \n",
    "print(\"Cluster 3:\", np.bincount(cluster_nums)[2])"
   ]
  },
  {
   "cell_type": "markdown",
   "metadata": {},
   "source": [
    "These clusters seem to expose an acceptable level of skewedness."
   ]
  },
  {
   "cell_type": "code",
   "execution_count": null,
   "metadata": {},
   "outputs": [],
   "source": [
    "pd.DataFrame(kmeans.cluster_centers_, columns=['RedMeat', 'Fr&Veg'])"
   ]
  },
  {
   "cell_type": "markdown",
   "metadata": {},
   "source": [
    "I also want to see the clusters"
   ]
  },
  {
   "cell_type": "code",
   "execution_count": null,
   "metadata": {},
   "outputs": [],
   "source": [
    "centers = pd.DataFrame(kmeans.cluster_centers_,\n",
    "columns=['ArrDelay', 'DepDelay'])\n",
    "\n",
    "centers.plot.barh()\n",
    "plt.title('Cluster centers')\n",
    "plt.xlabel('value'); plt.ylabel('cluster number')\n",
    "plt.show()"
   ]
  },
  {
   "cell_type": "markdown",
   "metadata": {},
   "source": [
    "Now in 2D"
   ]
  },
  {
   "cell_type": "code",
   "execution_count": null,
   "metadata": {},
   "outputs": [],
   "source": [
    "cluster_labels = {\n",
    "    0: 'Low Delay',\n",
    "    1: 'Medium Delay',\n",
    "    2: 'High Delay'\n",
    "}\n",
    "\n",
    "labels = [cluster_labels[c] for c in clusters]\n",
    "\n",
    "plt.scatter(X_scaled[:, 0], X_scaled[:, 1], c=clusters, label=labels)\n",
    "plt.legend(['Low Delay', 'Medium Delay', 'High Delay'])\n",
    "plt.tight_layout()"
   ]
  },
  {
   "cell_type": "code",
   "execution_count": null,
   "metadata": {},
   "outputs": [],
   "source": [
    "X2 = PCA(n_components=2).fit_transform(X)\n",
    "ax = sns.scatterplot(x=X2[:,0], y=X2[:,1], hue=cluster_nums,\n",
    "palette='Set1', s=20, legend=True)\n",
    "ax.set_title('Flight delays')\n",
    "ax.set_xlabel('1st principal component')\n",
    "ax.set_ylabel('2nd principal component');\n",
    "plt.legend(['Low Delay', 'High Delay', 'Medium Delay']);"
   ]
  },
  {
   "cell_type": "markdown",
   "metadata": {},
   "source": [
    "I don't think these predictor variable are working out. Im going to try distance and airport."
   ]
  },
  {
   "cell_type": "code",
   "execution_count": null,
   "metadata": {},
   "outputs": [],
   "source": [
    "df_num = df[['Distance', 'DepDelay']]\n",
    "numeric_vars = df_num.columns.values\n",
    "\n",
    "df_scaled = df_num.apply(lambda s: zscore(s, nan_policy='omit'))"
   ]
  },
  {
   "cell_type": "code",
   "execution_count": null,
   "metadata": {},
   "outputs": [],
   "source": [
    "airport_stats = df.groupby('Origin').agg({\n",
    "   'Distance': 'mean',\n",
    "   'CarrierDelay': 'mean'\n",
    "}).dropna()\n",
    "\n",
    "X_scaled = scaler.fit_transform(airport_stats)"
   ]
  },
  {
   "cell_type": "code",
   "execution_count": null,
   "metadata": {},
   "outputs": [],
   "source": [
    "kmeans = KMeans(n_clusters=3, random_state=0)\n",
    "airport_stats['Cluster'] = kmeans.fit_predict(X_scaled)"
   ]
  },
  {
   "cell_type": "code",
   "execution_count": null,
   "metadata": {},
   "outputs": [],
   "source": [
    "# Blue is decent, red is bad and blue is good airport\n",
    "colors = ['#1f77b4', '#d62728', '#2ca02c']  # RGB\n",
    "\n",
    "plt.scatter(X_scaled[:, 0], X_scaled[:, 1],\n",
    "           c=[colors[i] for i in airport_stats['Cluster']],\n",
    "           s=30, alpha=0.3)\n",
    "\n",
    "distances = np.sqrt(X_scaled[:, 0]**2 + X_scaled[:, 1]**2)\n",
    "outlier_threshold = np.percentile(distances, 90)  # Top 10% as outliers\n",
    "outliers = distances > outlier_threshold\n",
    "\n",
    "for i, txt in enumerate(airport_stats.index):\n",
    "    if outliers[i]:\n",
    "        plt.annotate(txt, (X_scaled[i, 0], X_scaled[i, 1]), \n",
    "                    fontsize=8, xytext=(5, 5),\n",
    "                    textcoords='offset points')\n",
    "\n",
    "plt.xlabel('Average Flight Distance (scaled)')\n",
    "plt.ylabel('Average Airport Delay (scaled)')\n",
    "plt.title('Airport Clusters by Distance and Delay')\n",
    "plt.show();"
   ]
  },
  {
   "cell_type": "markdown",
   "metadata": {},
   "source": [
    "Next up, let's try using a regression algorithm to predict flight delay. First off, we perform a test/train split on our data. Let's use a test size of 0.15 to preserve a good amount of data for training"
   ]
  },
  {
   "cell_type": "code",
   "execution_count": null,
   "metadata": {},
   "outputs": [],
   "source": [
    "X = df['DepDelay']\n",
    "y = df['Distance']\n",
    "X_train, X_test, y_train, y_test = train_test_split(X, y, test_size=0.15, random_state=0)\n",
    "\n",
    "print(f'Using {X_train.shape[0]} samples for training and {X_test.shape[0]} for testing')"
   ]
  }
 ],
 "metadata": {
  "language_info": {
   "name": "python"
  }
 },
 "nbformat": 4,
 "nbformat_minor": 4
}
