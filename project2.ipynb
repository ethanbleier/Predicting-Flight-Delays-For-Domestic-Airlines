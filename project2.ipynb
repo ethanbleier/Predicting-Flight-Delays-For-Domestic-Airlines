{
 "cells": [
  {
   "cell_type": "markdown",
   "metadata": {},
   "source": [
    "# Predicting Flight Delays For Domestic Airlines"
   ]
  },
  {
   "cell_type": "markdown",
   "metadata": {},
   "source": [
    "### Authors: Ethan Bleier, Elijah Kramer, Roberto Palacios"
   ]
  },
  {
   "cell_type": "markdown",
   "metadata": {},
   "source": [
    "The U.S. Department of Transportation's (DOT) Bureau of Transportation Statistics (BTS) maintains performance records of domestic flights. These statistics include several interesting variables: dates, taxi times, delays, origins, destinations, departure, and arrival times. \n",
    "\n",
    "Using data analysis and various machine learning algorithms, this notebook plans to predict whether or not a flight will experience a delay. Specifically, we are interested in which predictors will play the biggest role in causing flight delays.\n",
    "\n",
    "This dataset is taken from [Kaggle](https://www.kaggle.com/datasets/giovamata/airlinedelaycauses/data) and represents data from 2008. However, we expect to find that many of these same patterns found in this dataset to persist today."
   ]
  },
  {
   "cell_type": "code",
   "execution_count": null,
   "metadata": {},
   "outputs": [],
   "source": [
    "import pandas as pd\n",
    "import numpy as np\n",
    "import matplotlib.pyplot as plt\n",
    "import seaborn as sns\n",
    "import kagglehub\n",
    "\n",
    "from sklearn.preprocessing import StandardScaler\n",
    "from sklearn.cluster import KMeans\n",
    "from sklearn.decomposition import PCA"
   ]
  },
  {
   "cell_type": "markdown",
   "metadata": {},
   "source": [
    "### Reading In Data"
   ]
  },
  {
   "cell_type": "code",
   "execution_count": null,
   "metadata": {},
   "outputs": [],
   "source": [
    "path = kagglehub.dataset_download(\"giovamata/airlinedelaycauses\")\n",
    "df = pd.read_csv(path + '/DelayedFlights.csv')"
   ]
  },
  {
   "cell_type": "markdown",
   "metadata": {},
   "source": [
    "### Quick plotting settings"
   ]
  },
  {
   "cell_type": "code",
   "execution_count": null,
   "metadata": {},
   "outputs": [],
   "source": [
    "sns.set_theme(context='notebook', style='whitegrid')\n",
    "plt.rcParams['figure.figsize'] = 6, 4"
   ]
  },
  {
   "cell_type": "markdown",
   "metadata": {},
   "source": [
    "### Data Exploration"
   ]
  },
  {
   "cell_type": "code",
   "execution_count": null,
   "metadata": {},
   "outputs": [],
   "source": [
    "df.info()"
   ]
  },
  {
   "cell_type": "code",
   "execution_count": null,
   "metadata": {},
   "outputs": [],
   "source": [
    "df.describe()"
   ]
  },
  {
   "cell_type": "markdown",
   "metadata": {},
   "source": [
    "### Data Preprocessing"
   ]
  },
  {
   "cell_type": "markdown",
   "metadata": {},
   "source": [
    "The \"Year\" column only contains a single value for all records. That means it provides no values for us and as such we can drop it."
   ]
  },
  {
   "cell_type": "code",
   "execution_count": null,
   "metadata": {},
   "outputs": [],
   "source": [
    "df = df.drop(['Year'], axis=1)"
   ]
  },
  {
   "cell_type": "markdown",
   "metadata": {},
   "source": [
    "KMeans does not accept NaN values so we need to remove them from our input variables"
   ]
  },
  {
   "cell_type": "code",
   "execution_count": null,
   "metadata": {},
   "outputs": [],
   "source": [
    "df = df.dropna(subset=['DepDelay', 'ArrDelay'])\n"
   ]
  },
  {
   "cell_type": "code",
   "execution_count": null,
   "metadata": {},
   "outputs": [],
   "source": [
    "# Checking for outliers\n",
    "plt.boxplot([df['DepDelay'], df['ArrDelay']])\n",
    "plt.xticks([1, 2], ['DepDelay', 'ArrDelay'])\n",
    "plt.show()\n",
    "\n",
    "from scipy import stats\n",
    "z_scores = stats.zscore(df[['DepDelay', 'ArrDelay']])\n",
    "outliers = (abs(z_scores) > 3).any(axis=1)\n",
    "print(\"Number of outliers:\", outliers.sum())"
   ]
  },
  {
   "cell_type": "markdown",
   "metadata": {},
   "source": [
    "This plot shows us that there are two many outliers for the mean of the data to provide us with anything useful."
   ]
  },
  {
   "cell_type": "code",
   "execution_count": null,
   "metadata": {},
   "outputs": [],
   "source": [
    "df_num = df[['ArrDelay', 'DepDelay']]\n",
    "numeric_vars = df_num.columns.values\n",
    "\n",
    "from scipy.stats import zscore\n",
    "zscore1 = lambda s: zscore(s, nan_policy='omit')\n",
    "\n",
    "df_scaled = df_num.apply(zscore1)"
   ]
  },
  {
   "cell_type": "code",
   "execution_count": null,
   "metadata": {},
   "outputs": [],
   "source": [
    "df_scaled.apply(['min', 'max']).round(2).transpose()"
   ]
  },
  {
   "cell_type": "markdown",
   "metadata": {},
   "source": [
    "The calculation of the min and max in this instance shows us that some delay values are negative and may indicate either flights that arrived early, or some sort of error."
   ]
  },
  {
   "cell_type": "code",
   "execution_count": null,
   "metadata": {},
   "outputs": [],
   "source": [
    "sns.pairplot(df_num);"
   ]
  },
  {
   "cell_type": "code",
   "execution_count": null,
   "metadata": {},
   "outputs": [],
   "source": [
    "q01, q99 = df[['DepDelay', 'ArrDelay']].quantile([0.01, 0.99]).values\n",
    "\n",
    "df['DepDelay'] = df['DepDelay'].clip(q01[0], q99[0])\n",
    "df['ArrDelay'] = df['ArrDelay'].clip(q01[1], q99[1])\n",
    "\n",
    "X = StandardScaler().fit_transform(df[['DepDelay', 'ArrDelay']])\n",
    "kmeans = KMeans(n_clusters=3, random_state=0)\n",
    "clusters = kmeans.fit_predict(X)"
   ]
  },
  {
   "cell_type": "code",
   "execution_count": null,
   "metadata": {},
   "outputs": [],
   "source": [
    "fig, (ax1, ax2) = plt.subplots(1, 2, figsize=(12, 5))\n",
    "\n",
    "ax1.scatter(df['DepDelay'], df['ArrDelay'], alpha=0.5)\n",
    "ax1.set_title('Raw Data')\n",
    "ax1.set_xlabel('Departure Delay')\n",
    "ax1.set_ylabel('Arrival Delay')\n",
    "\n",
    "ax2.scatter(df['DepDelay'], df['ArrDelay'], alpha=0.5, c=clusters)\n",
    "ax2.set_title('Clipped Data with Clusters')\n",
    "ax2.set_xlabel('Departure Delay')\n",
    "ax2.set_ylabel('Arrival Delay')\n",
    "\n",
    "plt.tight_layout()\n",
    "plt.show()\n"
   ]
  },
  {
   "cell_type": "code",
   "execution_count": null,
   "metadata": {},
   "outputs": [],
   "source": [
    "z_scores = stats.zscore(df[['DepDelay', 'ArrDelay']])\n",
    "outliers_removed = df[abs(z_scores).max(axis=1) <= 3]"
   ]
  },
  {
   "cell_type": "markdown",
   "metadata": {},
   "source": [
    "### Machine Learning"
   ]
  },
  {
   "cell_type": "code",
   "execution_count": null,
   "metadata": {},
   "outputs": [],
   "source": [
    "X = df[['DepDelay', 'ArrDelay']]"
   ]
  },
  {
   "cell_type": "code",
   "execution_count": null,
   "metadata": {},
   "outputs": [],
   "source": [
    "scaler = StandardScaler()\n",
    "scaler.fit(X)\n",
    "X_scaled = scaler.transform(X)\n",
    "\n",
    "kmeans = KMeans(n_clusters=3,random_state=0)\n",
    "cluster_nums = kmeans.fit_predict(X)"
   ]
  },
  {
   "cell_type": "markdown",
   "metadata": {},
   "source": [
    "Sanity check: Are the clusters too skewed?"
   ]
  },
  {
   "cell_type": "code",
   "execution_count": null,
   "metadata": {},
   "outputs": [],
   "source": [
    "cluster_nums[:100]\n",
    "\n",
    "print(\"Cluster 1:\", np.bincount(cluster_nums)[0])\n",
    "print(\"Cluster 2:\", np.bincount(cluster_nums)[1]) \n",
    "print(\"Cluster 3:\", np.bincount(cluster_nums)[2])"
   ]
  },
  {
   "cell_type": "markdown",
   "metadata": {},
   "source": [
    "These clusters seem to expose an acceptable level of skewedness."
   ]
  },
  {
   "cell_type": "code",
   "execution_count": null,
   "metadata": {},
   "outputs": [],
   "source": [
    "pd.DataFrame(kmeans.cluster_centers_, columns=['RedMeat', 'Fr&Veg'])"
   ]
  },
  {
   "cell_type": "markdown",
   "metadata": {},
   "source": [
    "I also want to see the clusters"
   ]
  },
  {
   "cell_type": "code",
   "execution_count": null,
   "metadata": {},
   "outputs": [],
   "source": [
    "centers = pd.DataFrame(kmeans.cluster_centers_,\n",
    "columns=['ArrDelay', 'DepDelay'])\n",
    "\n",
    "centers.plot.barh()\n",
    "plt.title('Cluster centers')\n",
    "plt.xlabel('value'); plt.ylabel('cluster number')\n",
    "plt.show()"
   ]
  },
  {
   "cell_type": "markdown",
   "metadata": {},
   "source": [
    "Now in 2D"
   ]
  },
  {
   "cell_type": "code",
   "execution_count": null,
   "metadata": {},
   "outputs": [],
   "source": [
    "cluster_labels = {\n",
    "    0: 'Low Delay',\n",
    "    1: 'Medium Delay',\n",
    "    2: 'High Delay'\n",
    "}\n",
    "\n",
    "labels = [cluster_labels[c] for c in clusters]\n",
    "\n",
    "plt.scatter(X_scaled[:, 0], X_scaled[:, 1], c=clusters, label=labels)\n",
    "plt.legend(['Low Delay', 'Medium Delay', 'High Delay'])\n",
    "plt.tight_layout()"
   ]
  },
  {
   "cell_type": "code",
   "execution_count": null,
   "metadata": {},
   "outputs": [],
   "source": [
    "X2 = PCA(n_components=2).fit_transform(X)\n",
    "ax = sns.scatterplot(x=X2[:,0], y=X2[:,1], hue=cluster_nums,\n",
    "palette='Set1', s=20, legend=True)\n",
    "ax.set_title('Flight delays')\n",
    "ax.set_xlabel('1st principal component')\n",
    "ax.set_ylabel('2nd principal component');\n",
    "plt.legend(['Low Delay', 'High Delay', 'Medium Delay']);"
   ]
  },
  {
   "cell_type": "markdown",
   "metadata": {},
   "source": [
    "I don't think these predictor variable are working out. Im going to try distance and airport."
   ]
  },
  {
   "cell_type": "code",
   "execution_count": null,
   "metadata": {},
   "outputs": [],
   "source": [
    "df_num = df[['Distance', 'DepDelay']]\n",
    "numeric_vars = df_num.columns.values\n",
    "\n",
    "from scipy.stats import zscore\n",
    "zscore1 = lambda s: zscore(s, nan_policy='omit')\n",
    "\n",
    "df_scaled = df_num.apply(zscore1)"
   ]
  },
  {
   "cell_type": "code",
   "execution_count": null,
   "metadata": {},
   "outputs": [],
   "source": [
    "airport_stats = df.groupby('Origin').agg({\n",
    "   'Distance': 'mean',\n",
    "   'CarrierDelay': 'mean'\n",
    "}).dropna()\n",
    "\n",
    "X_scaled = scaler.fit_transform(airport_stats)"
   ]
  },
  {
   "cell_type": "code",
   "execution_count": null,
   "metadata": {},
   "outputs": [],
   "source": [
    "kmeans = KMeans(n_clusters=3, random_state=0)\n",
    "airport_stats['Cluster'] = kmeans.fit_predict(X_scaled)"
   ]
  },
  {
   "cell_type": "code",
   "execution_count": null,
   "metadata": {},
   "outputs": [],
   "source": [
    "# Blue is decent, red is bad and blue is good airport\n",
    "colors = ['#1f77b4', '#d62728', '#2ca02c']  # RGB\n",
    "\n",
    "plt.scatter(X_scaled[:, 0], X_scaled[:, 1],\n",
    "           c=[colors[i] for i in airport_stats['Cluster']],\n",
    "           s=30, alpha=0.3)\n",
    "\n",
    "distances = np.sqrt(X_scaled[:, 0]**2 + X_scaled[:, 1]**2)\n",
    "outlier_threshold = np.percentile(distances, 90)  # Top 10% as outliers\n",
    "outliers = distances > outlier_threshold\n",
    "\n",
    "for i, txt in enumerate(airport_stats.index):\n",
    "    if outliers[i]:\n",
    "        plt.annotate(txt, (X_scaled[i, 0], X_scaled[i, 1]), \n",
    "                    fontsize=8, xytext=(5, 5),\n",
    "                    textcoords='offset points')\n",
    "\n",
    "plt.xlabel('Average Flight Distance (scaled)')\n",
    "plt.ylabel('Average Airport Delay (scaled)')\n",
    "plt.title('Airport Clusters by Distance and Delay')\n",
    "plt.show();"
   ]
  },
  {
   "cell_type": "markdown",
   "metadata": {},
   "source": [
    "Next up, let's try using a regression algorithm to predict flight delay. First off, we perform a test/train split on our data. Let's use a test size of 0.15 to preserve a good amount of data for training"
   ]
  },
  {
   "cell_type": "code",
   "execution_count": null,
   "metadata": {},
   "outputs": [],
   "source": [
    "from sklearn.model_selection import train_test_split\n",
    "\n",
    "X = df['DepDelay']\n",
    "y = df['Distance']\n",
    "X_train, X_test, y_train, y_test = train_test_split(X, y, test_size=0.15, random_state=0)\n",
    "\n",
    "print(f'Using {X_train.shape[0]} samples for training and {X_test.shape[0]} for testing')"
   ]
  }
 ],
 "metadata": {
  "language_info": {
   "name": "python"
  }
 },
 "nbformat": 4,
 "nbformat_minor": 4
}
